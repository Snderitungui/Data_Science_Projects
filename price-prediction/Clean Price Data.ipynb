{
 "cells": [
  {
   "cell_type": "code",
   "execution_count": 1,
   "metadata": {},
   "outputs": [],
   "source": [
    "import pandas as pd"
   ]
  },
  {
   "cell_type": "code",
   "execution_count": 2,
   "metadata": {},
   "outputs": [],
   "source": [
    "price = pd.read_csv('Reviewed Price Sheet - Yam.csv')"
   ]
  },
  {
   "cell_type": "code",
   "execution_count": 3,
   "metadata": {},
   "outputs": [],
   "source": [
    "price = price.drop('AVERAGE', axis=1)"
   ]
  },
  {
   "cell_type": "code",
   "execution_count": 4,
   "metadata": {
    "scrolled": true
   },
   "outputs": [
    {
     "data": {
      "text/html": [
       "<div>\n",
       "<style scoped>\n",
       "    .dataframe tbody tr th:only-of-type {\n",
       "        vertical-align: middle;\n",
       "    }\n",
       "\n",
       "    .dataframe tbody tr th {\n",
       "        vertical-align: top;\n",
       "    }\n",
       "\n",
       "    .dataframe thead th {\n",
       "        text-align: right;\n",
       "    }\n",
       "</style>\n",
       "<table border=\"1\" class=\"dataframe\">\n",
       "  <thead>\n",
       "    <tr style=\"text-align: right;\">\n",
       "      <th></th>\n",
       "      <th>Year</th>\n",
       "      <th>JANUARY</th>\n",
       "      <th>FEBRUARY</th>\n",
       "      <th>MARCH</th>\n",
       "      <th>APRIL</th>\n",
       "      <th>MAY</th>\n",
       "      <th>JUNE</th>\n",
       "      <th>JULY</th>\n",
       "      <th>AUGUST</th>\n",
       "      <th>SEPTEMBER</th>\n",
       "      <th>OCTOBER</th>\n",
       "      <th>NOVEMBER</th>\n",
       "      <th>DECEMBER</th>\n",
       "    </tr>\n",
       "  </thead>\n",
       "  <tbody>\n",
       "    <tr>\n",
       "      <th>0</th>\n",
       "      <td>YAM (KG)</td>\n",
       "      <td>250.0000</td>\n",
       "      <td>250.0000</td>\n",
       "      <td>250.0000</td>\n",
       "      <td>250.0000</td>\n",
       "      <td>250.0000</td>\n",
       "      <td>250.0000</td>\n",
       "      <td>250.0000</td>\n",
       "      <td>250.0000</td>\n",
       "      <td>250.0000</td>\n",
       "      <td>250.0000</td>\n",
       "      <td>250.0000</td>\n",
       "      <td>250.0000</td>\n",
       "    </tr>\n",
       "    <tr>\n",
       "      <th>1</th>\n",
       "      <td>1970</td>\n",
       "      <td>0.0032</td>\n",
       "      <td>0.0031</td>\n",
       "      <td>0.0035</td>\n",
       "      <td>0.0037</td>\n",
       "      <td>0.0040</td>\n",
       "      <td>0.0039</td>\n",
       "      <td>0.0036</td>\n",
       "      <td>0.0037</td>\n",
       "      <td>0.0031</td>\n",
       "      <td>0.0030</td>\n",
       "      <td>0.0033</td>\n",
       "      <td>0.0035</td>\n",
       "    </tr>\n",
       "    <tr>\n",
       "      <th>2</th>\n",
       "      <td>1971</td>\n",
       "      <td>0.0037</td>\n",
       "      <td>0.0039</td>\n",
       "      <td>0.0040</td>\n",
       "      <td>0.0034</td>\n",
       "      <td>0.0051</td>\n",
       "      <td>0.0054</td>\n",
       "      <td>0.0039</td>\n",
       "      <td>0.0034</td>\n",
       "      <td>0.0030</td>\n",
       "      <td>0.0030</td>\n",
       "      <td>0.0034</td>\n",
       "      <td>0.0042</td>\n",
       "    </tr>\n",
       "    <tr>\n",
       "      <th>3</th>\n",
       "      <td>1972</td>\n",
       "      <td>0.0038</td>\n",
       "      <td>0.0044</td>\n",
       "      <td>0.0045</td>\n",
       "      <td>0.0051</td>\n",
       "      <td>0.0061</td>\n",
       "      <td>0.0065</td>\n",
       "      <td>0.0041</td>\n",
       "      <td>0.0035</td>\n",
       "      <td>0.0031</td>\n",
       "      <td>0.0035</td>\n",
       "      <td>0.0041</td>\n",
       "      <td>0.0044</td>\n",
       "    </tr>\n",
       "    <tr>\n",
       "      <th>4</th>\n",
       "      <td>1973</td>\n",
       "      <td>0.0045</td>\n",
       "      <td>0.0053</td>\n",
       "      <td>0.0057</td>\n",
       "      <td>0.0060</td>\n",
       "      <td>0.0067</td>\n",
       "      <td>0.0067</td>\n",
       "      <td>0.0055</td>\n",
       "      <td>0.0047</td>\n",
       "      <td>0.0043</td>\n",
       "      <td>0.0042</td>\n",
       "      <td>0.0054</td>\n",
       "      <td>0.0063</td>\n",
       "    </tr>\n",
       "  </tbody>\n",
       "</table>\n",
       "</div>"
      ],
      "text/plain": [
       "       Year   JANUARY  FEBRUARY     MARCH     APRIL       MAY      JUNE  \\\n",
       "0  YAM (KG)  250.0000  250.0000  250.0000  250.0000  250.0000  250.0000   \n",
       "1      1970    0.0032    0.0031    0.0035    0.0037    0.0040    0.0039   \n",
       "2      1971    0.0037    0.0039    0.0040    0.0034    0.0051    0.0054   \n",
       "3      1972    0.0038    0.0044    0.0045    0.0051    0.0061    0.0065   \n",
       "4      1973    0.0045    0.0053    0.0057    0.0060    0.0067    0.0067   \n",
       "\n",
       "       JULY    AUGUST  SEPTEMBER   OCTOBER  NOVEMBER  DECEMBER  \n",
       "0  250.0000  250.0000   250.0000  250.0000  250.0000  250.0000  \n",
       "1    0.0036    0.0037     0.0031    0.0030    0.0033    0.0035  \n",
       "2    0.0039    0.0034     0.0030    0.0030    0.0034    0.0042  \n",
       "3    0.0041    0.0035     0.0031    0.0035    0.0041    0.0044  \n",
       "4    0.0055    0.0047     0.0043    0.0042    0.0054    0.0063  "
      ]
     },
     "execution_count": 4,
     "metadata": {},
     "output_type": "execute_result"
    }
   ],
   "source": [
    "price.head()"
   ]
  },
  {
   "cell_type": "code",
   "execution_count": 5,
   "metadata": {},
   "outputs": [],
   "source": [
    "item_kg  = price.loc[0]"
   ]
  },
  {
   "cell_type": "code",
   "execution_count": 6,
   "metadata": {},
   "outputs": [
    {
     "data": {
      "text/plain": [
       "Year        YAM (KG)\n",
       "JANUARY          250\n",
       "FEBRUARY         250\n",
       "MARCH            250\n",
       "APRIL            250\n",
       "Name: 0, dtype: object"
      ]
     },
     "execution_count": 6,
     "metadata": {},
     "output_type": "execute_result"
    }
   ],
   "source": [
    "item_kg.head()"
   ]
  },
  {
   "cell_type": "code",
   "execution_count": 7,
   "metadata": {},
   "outputs": [],
   "source": [
    "price = price.drop(0)"
   ]
  },
  {
   "cell_type": "code",
   "execution_count": 8,
   "metadata": {},
   "outputs": [],
   "source": [
    "price.columns = price.columns.str.strip()"
   ]
  },
  {
   "cell_type": "code",
   "execution_count": 9,
   "metadata": {},
   "outputs": [],
   "source": [
    "price = pd.melt(price, id_vars=[\"Year\"], \n",
    "                  var_name=\"MONTH\", value_name=\"PRICE\")"
   ]
  },
  {
   "cell_type": "code",
   "execution_count": 10,
   "metadata": {},
   "outputs": [
    {
     "data": {
      "text/html": [
       "<div>\n",
       "<style scoped>\n",
       "    .dataframe tbody tr th:only-of-type {\n",
       "        vertical-align: middle;\n",
       "    }\n",
       "\n",
       "    .dataframe tbody tr th {\n",
       "        vertical-align: top;\n",
       "    }\n",
       "\n",
       "    .dataframe thead th {\n",
       "        text-align: right;\n",
       "    }\n",
       "</style>\n",
       "<table border=\"1\" class=\"dataframe\">\n",
       "  <thead>\n",
       "    <tr style=\"text-align: right;\">\n",
       "      <th></th>\n",
       "      <th>Year</th>\n",
       "      <th>MONTH</th>\n",
       "      <th>PRICE</th>\n",
       "    </tr>\n",
       "  </thead>\n",
       "  <tbody>\n",
       "    <tr>\n",
       "      <th>0</th>\n",
       "      <td>1970</td>\n",
       "      <td>JANUARY</td>\n",
       "      <td>0.0032</td>\n",
       "    </tr>\n",
       "    <tr>\n",
       "      <th>1</th>\n",
       "      <td>1971</td>\n",
       "      <td>JANUARY</td>\n",
       "      <td>0.0037</td>\n",
       "    </tr>\n",
       "    <tr>\n",
       "      <th>2</th>\n",
       "      <td>1972</td>\n",
       "      <td>JANUARY</td>\n",
       "      <td>0.0038</td>\n",
       "    </tr>\n",
       "    <tr>\n",
       "      <th>3</th>\n",
       "      <td>1973</td>\n",
       "      <td>JANUARY</td>\n",
       "      <td>0.0045</td>\n",
       "    </tr>\n",
       "    <tr>\n",
       "      <th>4</th>\n",
       "      <td>1974</td>\n",
       "      <td>JANUARY</td>\n",
       "      <td>0.0068</td>\n",
       "    </tr>\n",
       "  </tbody>\n",
       "</table>\n",
       "</div>"
      ],
      "text/plain": [
       "   Year    MONTH   PRICE\n",
       "0  1970  JANUARY  0.0032\n",
       "1  1971  JANUARY  0.0037\n",
       "2  1972  JANUARY  0.0038\n",
       "3  1973  JANUARY  0.0045\n",
       "4  1974  JANUARY  0.0068"
      ]
     },
     "execution_count": 10,
     "metadata": {},
     "output_type": "execute_result"
    }
   ],
   "source": [
    "price.head()"
   ]
  },
  {
   "cell_type": "code",
   "execution_count": 11,
   "metadata": {},
   "outputs": [],
   "source": [
    "price.to_csv('./cleaned/Yam-price.csv')"
   ]
  }
 ],
 "metadata": {
  "kernelspec": {
   "display_name": "Python 3",
   "language": "python",
   "name": "python3"
  },
  "language_info": {
   "codemirror_mode": {
    "name": "ipython",
    "version": 3
   },
   "file_extension": ".py",
   "mimetype": "text/x-python",
   "name": "python",
   "nbconvert_exporter": "python",
   "pygments_lexer": "ipython3",
   "version": "3.7.1"
  }
 },
 "nbformat": 4,
 "nbformat_minor": 2
}

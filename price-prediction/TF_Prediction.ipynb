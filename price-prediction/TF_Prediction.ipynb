{
 "cells": [
  {
   "cell_type": "code",
   "execution_count": 1,
   "metadata": {
    "collapsed": true
   },
   "outputs": [
    {
     "name": "stderr",
     "output_type": "stream",
     "text": [
      "/home/kayo-mest/.local/lib/python3.6/site-packages/matplotlib/__init__.py:886: MatplotlibDeprecationWarning: \n",
      "examples.directory is deprecated; in the future, examples will be found relative to the 'datapath' directory.\n",
      "  \"found relative to the 'datapath' directory.\".format(key))\n"
     ]
    }
   ],
   "source": [
    "import tensorflow as tf\n",
    "import pandas as pd\n",
    "import matplotlib.pyplot as plt\n",
    "import seaborn as sns"
   ]
  },
  {
   "cell_type": "code",
   "execution_count": null,
   "metadata": {},
   "outputs": [],
   "source": [
    "wholesale_prices = pd.read_csv(\"./cleaned/super_dataframe.csv\",encoding = \"latin\")\n",
    "rainfall = pd.read_csv(\"pr_1991_2016_GHA.csv\")\n",
    "temperature = pd.read_csv(\"Monthly Average Temperature in Ghana.csv\")\n",
    "temperature_2 = pd.read_csv(\"tas_1991_2016_GHA.csv\")"
   ]
  },
  {
   "cell_type": "code",
   "execution_count": 2,
   "metadata": {},
   "outputs": [],
   "source": [
    "crops = ['MAIZE', 'MILLET', 'LOCAL RICE', 'SORGHUM', 'YAM', 'COCOYAM']"
   ]
  },
  {
   "cell_type": "code",
   "execution_count": 3,
   "metadata": {},
   "outputs": [],
   "source": [
    "crop_array = {\n",
    "    'MAIZE':1,\n",
    "    'MILLET':2,\n",
    "    'LOCAL RICE':3,\n",
    "    'SORGHUM':4,\n",
    "    'YAM':5,\n",
    "    'COCOYAM':6\n",
    "}"
   ]
  },
  {
   "cell_type": "code",
   "execution_count": 4,
   "metadata": {},
   "outputs": [
    {
     "data": {
      "text/html": [
       "<div>\n",
       "<style scoped>\n",
       "    .dataframe tbody tr th:only-of-type {\n",
       "        vertical-align: middle;\n",
       "    }\n",
       "\n",
       "    .dataframe tbody tr th {\n",
       "        vertical-align: top;\n",
       "    }\n",
       "\n",
       "    .dataframe thead th {\n",
       "        text-align: right;\n",
       "    }\n",
       "</style>\n",
       "<table border=\"1\" class=\"dataframe\">\n",
       "  <thead>\n",
       "    <tr style=\"text-align: right;\">\n",
       "      <th></th>\n",
       "      <th>DATE</th>\n",
       "      <th>YEAR</th>\n",
       "      <th>MONTH</th>\n",
       "      <th>COMMODITY</th>\n",
       "      <th>WEIGHT, KG PER BAG</th>\n",
       "      <th>Price</th>\n",
       "      <th>Temperature (C)</th>\n",
       "      <th>Rainfall - (MM)</th>\n",
       "    </tr>\n",
       "  </thead>\n",
       "  <tbody>\n",
       "    <tr>\n",
       "      <th>0</th>\n",
       "      <td>1991-01-01</td>\n",
       "      <td>1991</td>\n",
       "      <td>1</td>\n",
       "      <td>MAIZE</td>\n",
       "      <td>100</td>\n",
       "      <td>1.080</td>\n",
       "      <td>27.671963</td>\n",
       "      <td>9.81577</td>\n",
       "    </tr>\n",
       "    <tr>\n",
       "      <th>1</th>\n",
       "      <td>1991-01-01</td>\n",
       "      <td>1991</td>\n",
       "      <td>1</td>\n",
       "      <td>MILLET</td>\n",
       "      <td>93</td>\n",
       "      <td>187.100</td>\n",
       "      <td>27.671963</td>\n",
       "      <td>9.81577</td>\n",
       "    </tr>\n",
       "    <tr>\n",
       "      <th>2</th>\n",
       "      <td>1991-01-01</td>\n",
       "      <td>1991</td>\n",
       "      <td>1</td>\n",
       "      <td>LOCAL RICE</td>\n",
       "      <td>100</td>\n",
       "      <td>0.050</td>\n",
       "      <td>27.671963</td>\n",
       "      <td>9.81577</td>\n",
       "    </tr>\n",
       "    <tr>\n",
       "      <th>3</th>\n",
       "      <td>1991-01-01</td>\n",
       "      <td>1991</td>\n",
       "      <td>1</td>\n",
       "      <td>SORGHUM</td>\n",
       "      <td>109</td>\n",
       "      <td>6.917</td>\n",
       "      <td>27.671963</td>\n",
       "      <td>9.81577</td>\n",
       "    </tr>\n",
       "    <tr>\n",
       "      <th>4</th>\n",
       "      <td>1991-01-01</td>\n",
       "      <td>1991</td>\n",
       "      <td>1</td>\n",
       "      <td>YAM</td>\n",
       "      <td>250</td>\n",
       "      <td>57.261</td>\n",
       "      <td>27.671963</td>\n",
       "      <td>9.81577</td>\n",
       "    </tr>\n",
       "  </tbody>\n",
       "</table>\n",
       "</div>"
      ],
      "text/plain": [
       "         DATE  YEAR  MONTH   COMMODITY  WEIGHT, KG PER BAG    Price  \\\n",
       "0  1991-01-01  1991      1       MAIZE                 100    1.080   \n",
       "1  1991-01-01  1991      1      MILLET                  93  187.100   \n",
       "2  1991-01-01  1991      1  LOCAL RICE                 100    0.050   \n",
       "3  1991-01-01  1991      1     SORGHUM                 109    6.917   \n",
       "4  1991-01-01  1991      1         YAM                 250   57.261   \n",
       "\n",
       "   Temperature (C)  Rainfall - (MM)  \n",
       "0        27.671963          9.81577  \n",
       "1        27.671963          9.81577  \n",
       "2        27.671963          9.81577  \n",
       "3        27.671963          9.81577  \n",
       "4        27.671963          9.81577  "
      ]
     },
     "execution_count": 4,
     "metadata": {},
     "output_type": "execute_result"
    }
   ],
   "source": [
    "df = pd.read_csv(\"./cleaned/wholesale_prices_with_temp_and_rainfall.csv\")\n",
    "df.rename(columns={'PRICE, ¢ GH':'Price'},inplace=True)\n",
    "df.head()"
   ]
  },
  {
   "cell_type": "code",
   "execution_count": 5,
   "metadata": {},
   "outputs": [
    {
     "data": {
      "text/html": [
       "<div>\n",
       "<style scoped>\n",
       "    .dataframe tbody tr th:only-of-type {\n",
       "        vertical-align: middle;\n",
       "    }\n",
       "\n",
       "    .dataframe tbody tr th {\n",
       "        vertical-align: top;\n",
       "    }\n",
       "\n",
       "    .dataframe thead th {\n",
       "        text-align: right;\n",
       "    }\n",
       "</style>\n",
       "<table border=\"1\" class=\"dataframe\">\n",
       "  <thead>\n",
       "    <tr style=\"text-align: right;\">\n",
       "      <th></th>\n",
       "      <th>DATE</th>\n",
       "      <th>YEAR</th>\n",
       "      <th>MONTH</th>\n",
       "      <th>COMMODITY</th>\n",
       "      <th>WEIGHT, KG PER BAG</th>\n",
       "      <th>Price</th>\n",
       "      <th>Temperature (C)</th>\n",
       "      <th>Rainfall - (MM)</th>\n",
       "    </tr>\n",
       "  </thead>\n",
       "  <tbody>\n",
       "    <tr>\n",
       "      <th>1867</th>\n",
       "      <td>2016-12-01</td>\n",
       "      <td>2016</td>\n",
       "      <td>12</td>\n",
       "      <td>MILLET</td>\n",
       "      <td>93</td>\n",
       "      <td>18.408</td>\n",
       "      <td>28.0134</td>\n",
       "      <td>20.8897</td>\n",
       "    </tr>\n",
       "    <tr>\n",
       "      <th>1868</th>\n",
       "      <td>2016-12-01</td>\n",
       "      <td>2016</td>\n",
       "      <td>12</td>\n",
       "      <td>LOCAL RICE</td>\n",
       "      <td>100</td>\n",
       "      <td>260.000</td>\n",
       "      <td>28.0134</td>\n",
       "      <td>20.8897</td>\n",
       "    </tr>\n",
       "    <tr>\n",
       "      <th>1869</th>\n",
       "      <td>2016-12-01</td>\n",
       "      <td>2016</td>\n",
       "      <td>12</td>\n",
       "      <td>SORGHUM</td>\n",
       "      <td>109</td>\n",
       "      <td>0.020</td>\n",
       "      <td>28.0134</td>\n",
       "      <td>20.8897</td>\n",
       "    </tr>\n",
       "    <tr>\n",
       "      <th>1870</th>\n",
       "      <td>2016-12-01</td>\n",
       "      <td>2016</td>\n",
       "      <td>12</td>\n",
       "      <td>YAM</td>\n",
       "      <td>250</td>\n",
       "      <td>424.690</td>\n",
       "      <td>28.0134</td>\n",
       "      <td>20.8897</td>\n",
       "    </tr>\n",
       "    <tr>\n",
       "      <th>1871</th>\n",
       "      <td>2016-12-01</td>\n",
       "      <td>2016</td>\n",
       "      <td>12</td>\n",
       "      <td>COCOYAM</td>\n",
       "      <td>91</td>\n",
       "      <td>182.850</td>\n",
       "      <td>28.0134</td>\n",
       "      <td>20.8897</td>\n",
       "    </tr>\n",
       "  </tbody>\n",
       "</table>\n",
       "</div>"
      ],
      "text/plain": [
       "            DATE  YEAR  MONTH   COMMODITY  WEIGHT, KG PER BAG    Price  \\\n",
       "1867  2016-12-01  2016     12      MILLET                  93   18.408   \n",
       "1868  2016-12-01  2016     12  LOCAL RICE                 100  260.000   \n",
       "1869  2016-12-01  2016     12     SORGHUM                 109    0.020   \n",
       "1870  2016-12-01  2016     12         YAM                 250  424.690   \n",
       "1871  2016-12-01  2016     12     COCOYAM                  91  182.850   \n",
       "\n",
       "      Temperature (C)  Rainfall - (MM)  \n",
       "1867          28.0134          20.8897  \n",
       "1868          28.0134          20.8897  \n",
       "1869          28.0134          20.8897  \n",
       "1870          28.0134          20.8897  \n",
       "1871          28.0134          20.8897  "
      ]
     },
     "execution_count": 5,
     "metadata": {},
     "output_type": "execute_result"
    }
   ],
   "source": [
    "df.tail()"
   ]
  },
  {
   "cell_type": "code",
   "execution_count": 6,
   "metadata": {},
   "outputs": [
    {
     "data": {
      "text/html": [
       "<div>\n",
       "<style scoped>\n",
       "    .dataframe tbody tr th:only-of-type {\n",
       "        vertical-align: middle;\n",
       "    }\n",
       "\n",
       "    .dataframe tbody tr th {\n",
       "        vertical-align: top;\n",
       "    }\n",
       "\n",
       "    .dataframe thead th {\n",
       "        text-align: right;\n",
       "    }\n",
       "</style>\n",
       "<table border=\"1\" class=\"dataframe\">\n",
       "  <thead>\n",
       "    <tr style=\"text-align: right;\">\n",
       "      <th></th>\n",
       "      <th>DATE</th>\n",
       "      <th>YEAR</th>\n",
       "      <th>MONTH</th>\n",
       "      <th>COMMODITY</th>\n",
       "      <th>WEIGHT, KG PER BAG</th>\n",
       "      <th>Price</th>\n",
       "      <th>Temperature (C)</th>\n",
       "      <th>Rainfall - (MM)</th>\n",
       "    </tr>\n",
       "  </thead>\n",
       "  <tbody>\n",
       "    <tr>\n",
       "      <th>0</th>\n",
       "      <td>1991-01-01</td>\n",
       "      <td>1991</td>\n",
       "      <td>1</td>\n",
       "      <td>1</td>\n",
       "      <td>100</td>\n",
       "      <td>1.080</td>\n",
       "      <td>27.671963</td>\n",
       "      <td>9.81577</td>\n",
       "    </tr>\n",
       "    <tr>\n",
       "      <th>1</th>\n",
       "      <td>1991-01-01</td>\n",
       "      <td>1991</td>\n",
       "      <td>1</td>\n",
       "      <td>2</td>\n",
       "      <td>93</td>\n",
       "      <td>187.100</td>\n",
       "      <td>27.671963</td>\n",
       "      <td>9.81577</td>\n",
       "    </tr>\n",
       "    <tr>\n",
       "      <th>2</th>\n",
       "      <td>1991-01-01</td>\n",
       "      <td>1991</td>\n",
       "      <td>1</td>\n",
       "      <td>3</td>\n",
       "      <td>100</td>\n",
       "      <td>0.050</td>\n",
       "      <td>27.671963</td>\n",
       "      <td>9.81577</td>\n",
       "    </tr>\n",
       "    <tr>\n",
       "      <th>3</th>\n",
       "      <td>1991-01-01</td>\n",
       "      <td>1991</td>\n",
       "      <td>1</td>\n",
       "      <td>4</td>\n",
       "      <td>109</td>\n",
       "      <td>6.917</td>\n",
       "      <td>27.671963</td>\n",
       "      <td>9.81577</td>\n",
       "    </tr>\n",
       "    <tr>\n",
       "      <th>4</th>\n",
       "      <td>1991-01-01</td>\n",
       "      <td>1991</td>\n",
       "      <td>1</td>\n",
       "      <td>5</td>\n",
       "      <td>250</td>\n",
       "      <td>57.261</td>\n",
       "      <td>27.671963</td>\n",
       "      <td>9.81577</td>\n",
       "    </tr>\n",
       "  </tbody>\n",
       "</table>\n",
       "</div>"
      ],
      "text/plain": [
       "         DATE  YEAR  MONTH  COMMODITY  WEIGHT, KG PER BAG    Price  \\\n",
       "0  1991-01-01  1991      1          1                 100    1.080   \n",
       "1  1991-01-01  1991      1          2                  93  187.100   \n",
       "2  1991-01-01  1991      1          3                 100    0.050   \n",
       "3  1991-01-01  1991      1          4                 109    6.917   \n",
       "4  1991-01-01  1991      1          5                 250   57.261   \n",
       "\n",
       "   Temperature (C)  Rainfall - (MM)  \n",
       "0        27.671963          9.81577  \n",
       "1        27.671963          9.81577  \n",
       "2        27.671963          9.81577  \n",
       "3        27.671963          9.81577  \n",
       "4        27.671963          9.81577  "
      ]
     },
     "execution_count": 6,
     "metadata": {},
     "output_type": "execute_result"
    }
   ],
   "source": [
    "df['COMMODITY'] = df.COMMODITY.map(crop_array)\n",
    "df.head()"
   ]
  },
  {
   "cell_type": "code",
   "execution_count": 7,
   "metadata": {},
   "outputs": [
    {
     "data": {
      "text/html": [
       "<div>\n",
       "<style scoped>\n",
       "    .dataframe tbody tr th:only-of-type {\n",
       "        vertical-align: middle;\n",
       "    }\n",
       "\n",
       "    .dataframe tbody tr th {\n",
       "        vertical-align: top;\n",
       "    }\n",
       "\n",
       "    .dataframe thead th {\n",
       "        text-align: right;\n",
       "    }\n",
       "</style>\n",
       "<table border=\"1\" class=\"dataframe\">\n",
       "  <thead>\n",
       "    <tr style=\"text-align: right;\">\n",
       "      <th></th>\n",
       "      <th>YEAR</th>\n",
       "      <th>MONTH</th>\n",
       "      <th>COMMODITY</th>\n",
       "      <th>WEIGHT, KG PER BAG</th>\n",
       "      <th>Price</th>\n",
       "      <th>Temperature (C)</th>\n",
       "      <th>Rainfall - (MM)</th>\n",
       "    </tr>\n",
       "  </thead>\n",
       "  <tbody>\n",
       "    <tr>\n",
       "      <th>count</th>\n",
       "      <td>1872.000000</td>\n",
       "      <td>1872.000000</td>\n",
       "      <td>1872.000000</td>\n",
       "      <td>1872.000000</td>\n",
       "      <td>1872.000000</td>\n",
       "      <td>1872.000000</td>\n",
       "      <td>1872.000000</td>\n",
       "    </tr>\n",
       "    <tr>\n",
       "      <th>mean</th>\n",
       "      <td>2003.493590</td>\n",
       "      <td>6.500000</td>\n",
       "      <td>3.500000</td>\n",
       "      <td>123.833333</td>\n",
       "      <td>29829.511194</td>\n",
       "      <td>27.608542</td>\n",
       "      <td>95.996609</td>\n",
       "    </tr>\n",
       "    <tr>\n",
       "      <th>std</th>\n",
       "      <td>7.499864</td>\n",
       "      <td>3.452975</td>\n",
       "      <td>1.708281</td>\n",
       "      <td>56.734984</td>\n",
       "      <td>110069.350559</td>\n",
       "      <td>1.466123</td>\n",
       "      <td>64.286123</td>\n",
       "    </tr>\n",
       "    <tr>\n",
       "      <th>min</th>\n",
       "      <td>1991.000000</td>\n",
       "      <td>1.000000</td>\n",
       "      <td>1.000000</td>\n",
       "      <td>91.000000</td>\n",
       "      <td>0.007000</td>\n",
       "      <td>24.942990</td>\n",
       "      <td>0.000000</td>\n",
       "    </tr>\n",
       "    <tr>\n",
       "      <th>25%</th>\n",
       "      <td>1997.000000</td>\n",
       "      <td>3.750000</td>\n",
       "      <td>2.000000</td>\n",
       "      <td>93.000000</td>\n",
       "      <td>5.641250</td>\n",
       "      <td>26.378470</td>\n",
       "      <td>29.219425</td>\n",
       "    </tr>\n",
       "    <tr>\n",
       "      <th>50%</th>\n",
       "      <td>2003.500000</td>\n",
       "      <td>6.500000</td>\n",
       "      <td>3.500000</td>\n",
       "      <td>100.000000</td>\n",
       "      <td>37.596000</td>\n",
       "      <td>27.323602</td>\n",
       "      <td>107.470500</td>\n",
       "    </tr>\n",
       "    <tr>\n",
       "      <th>75%</th>\n",
       "      <td>2010.000000</td>\n",
       "      <td>9.250000</td>\n",
       "      <td>5.000000</td>\n",
       "      <td>109.000000</td>\n",
       "      <td>217.147500</td>\n",
       "      <td>28.850001</td>\n",
       "      <td>145.107500</td>\n",
       "    </tr>\n",
       "    <tr>\n",
       "      <th>max</th>\n",
       "      <td>2016.000000</td>\n",
       "      <td>12.000000</td>\n",
       "      <td>6.000000</td>\n",
       "      <td>250.000000</td>\n",
       "      <td>920550.000000</td>\n",
       "      <td>30.795456</td>\n",
       "      <td>243.271000</td>\n",
       "    </tr>\n",
       "  </tbody>\n",
       "</table>\n",
       "</div>"
      ],
      "text/plain": [
       "              YEAR        MONTH    COMMODITY  WEIGHT, KG PER BAG  \\\n",
       "count  1872.000000  1872.000000  1872.000000         1872.000000   \n",
       "mean   2003.493590     6.500000     3.500000          123.833333   \n",
       "std       7.499864     3.452975     1.708281           56.734984   \n",
       "min    1991.000000     1.000000     1.000000           91.000000   \n",
       "25%    1997.000000     3.750000     2.000000           93.000000   \n",
       "50%    2003.500000     6.500000     3.500000          100.000000   \n",
       "75%    2010.000000     9.250000     5.000000          109.000000   \n",
       "max    2016.000000    12.000000     6.000000          250.000000   \n",
       "\n",
       "               Price  Temperature (C)  Rainfall - (MM)  \n",
       "count    1872.000000      1872.000000      1872.000000  \n",
       "mean    29829.511194        27.608542        95.996609  \n",
       "std    110069.350559         1.466123        64.286123  \n",
       "min         0.007000        24.942990         0.000000  \n",
       "25%         5.641250        26.378470        29.219425  \n",
       "50%        37.596000        27.323602       107.470500  \n",
       "75%       217.147500        28.850001       145.107500  \n",
       "max    920550.000000        30.795456       243.271000  "
      ]
     },
     "execution_count": 7,
     "metadata": {},
     "output_type": "execute_result"
    }
   ],
   "source": [
    "df.describe()"
   ]
  },
  {
   "cell_type": "code",
   "execution_count": 8,
   "metadata": {},
   "outputs": [
    {
     "name": "stdout",
     "output_type": "stream",
     "text": [
      "<class 'pandas.core.frame.DataFrame'>\n",
      "RangeIndex: 1872 entries, 0 to 1871\n",
      "Data columns (total 8 columns):\n",
      "DATE                  1872 non-null object\n",
      "YEAR                  1872 non-null int64\n",
      "MONTH                 1872 non-null int64\n",
      "COMMODITY             1872 non-null int64\n",
      "WEIGHT, KG PER BAG    1872 non-null int64\n",
      "Price                 1872 non-null float64\n",
      "Temperature (C)       1872 non-null float64\n",
      "Rainfall - (MM)       1872 non-null float64\n",
      "dtypes: float64(3), int64(4), object(1)\n",
      "memory usage: 117.1+ KB\n"
     ]
    }
   ],
   "source": [
    "df.info()"
   ]
  },
  {
   "cell_type": "code",
   "execution_count": 9,
   "metadata": {},
   "outputs": [],
   "source": [
    "arr = df.COMMODITY.unique()"
   ]
  },
  {
   "cell_type": "code",
   "execution_count": 10,
   "metadata": {},
   "outputs": [],
   "source": [
    "split_df = {}"
   ]
  },
  {
   "cell_type": "code",
   "execution_count": 11,
   "metadata": {},
   "outputs": [],
   "source": [
    "for item in arr:\n",
    "    split_df.update({item:df[df.COMMODITY==item]})"
   ]
  },
  {
   "cell_type": "code",
   "execution_count": 12,
   "metadata": {},
   "outputs": [
    {
     "data": {
      "text/plain": [
       "dict_keys([1, 2, 3, 4, 5, 6])"
      ]
     },
     "execution_count": 12,
     "metadata": {},
     "output_type": "execute_result"
    }
   ],
   "source": [
    "split_df.keys()"
   ]
  },
  {
   "cell_type": "code",
   "execution_count": 13,
   "metadata": {},
   "outputs": [],
   "source": [
    "# plt.figure()\n",
    "# plt.plot(df['Year'],df['Price'])"
   ]
  },
  {
   "cell_type": "code",
   "execution_count": 14,
   "metadata": {
    "scrolled": true
   },
   "outputs": [
    {
     "name": "stderr",
     "output_type": "stream",
     "text": [
      "/home/kayo-mest/anaconda3/lib/python3.6/site-packages/scipy/stats/stats.py:1713: FutureWarning: Using a non-tuple sequence for multidimensional indexing is deprecated; use `arr[tuple(seq)]` instead of `arr[seq]`. In the future this will be interpreted as an array index, `arr[np.array(seq)]`, which will result either in an error or a different result.\n",
      "  return np.add.reduce(sorted[indexer] * weights, axis=axis) / sumval\n"
     ]
    },
    {
     "data": {
      "text/plain": [
       "<seaborn.axisgrid.PairGrid at 0x7fcd1511c630>"
      ]
     },
     "execution_count": 14,
     "metadata": {},
     "output_type": "execute_result"
    },
    {
     "data": {
      "image/png": "[encoded data removed]",
      "text/plain": [
       "<Figure size 720x720 with 20 Axes>"
      ]
     },
     "metadata": {
      "needs_background": "light"
     },
     "output_type": "display_data"
    }
   ],
   "source": [
    "sns.pairplot(df[['Price','Temperature (C)','Rainfall - (MM)','YEAR']], diag_kind='kde')"
   ]
  },
  {
   "cell_type": "markdown",
   "metadata": {},
   "source": [
    "### Get data ready for model"
   ]
  },
  {
   "cell_type": "code",
   "execution_count": 27,
   "metadata": {
    "collapsed": true
   },
   "outputs": [
    {
     "ename": "KeyError",
     "evalue": "\"['DATE'] not found in axis\"",
     "output_type": "error",
     "traceback": [
      "\u001b[0;31m---------------------------------------------------------------------------\u001b[0m",
      "\u001b[0;31mKeyError\u001b[0m                                  Traceback (most recent call last)",
      "\u001b[0;32m<ipython-input-27-d79d3d967543>\u001b[0m in \u001b[0;36m<module>\u001b[0;34m\u001b[0m\n\u001b[0;32m----> 1\u001b[0;31m \u001b[0mdf\u001b[0m\u001b[0;34m.\u001b[0m\u001b[0mdrop\u001b[0m\u001b[0;34m(\u001b[0m\u001b[0;34m[\u001b[0m\u001b[0;34m'DATE'\u001b[0m\u001b[0;34m]\u001b[0m\u001b[0;34m,\u001b[0m \u001b[0maxis\u001b[0m\u001b[0;34m=\u001b[0m\u001b[0;36m1\u001b[0m\u001b[0;34m,\u001b[0m\u001b[0minplace\u001b[0m\u001b[0;34m=\u001b[0m\u001b[0;32mTrue\u001b[0m\u001b[0;34m)\u001b[0m\u001b[0;34m\u001b[0m\u001b[0;34m\u001b[0m\u001b[0m\n\u001b[0m\u001b[1;32m      2\u001b[0m \u001b[0mtrain_data\u001b[0m \u001b[0;34m=\u001b[0m \u001b[0mdf\u001b[0m\u001b[0;34m.\u001b[0m\u001b[0msample\u001b[0m\u001b[0;34m(\u001b[0m\u001b[0mfrac\u001b[0m\u001b[0;34m=\u001b[0m\u001b[0;36m0.8\u001b[0m\u001b[0;34m,\u001b[0m\u001b[0mrandom_state\u001b[0m\u001b[0;34m=\u001b[0m\u001b[0;36m0\u001b[0m\u001b[0;34m)\u001b[0m\u001b[0;34m\u001b[0m\u001b[0;34m\u001b[0m\u001b[0m\n\u001b[1;32m      3\u001b[0m \u001b[0mtest_data\u001b[0m \u001b[0;34m=\u001b[0m \u001b[0mdf\u001b[0m\u001b[0;34m.\u001b[0m\u001b[0mdrop\u001b[0m\u001b[0;34m(\u001b[0m\u001b[0mtrain_data\u001b[0m\u001b[0;34m.\u001b[0m\u001b[0mindex\u001b[0m\u001b[0;34m)\u001b[0m\u001b[0;34m\u001b[0m\u001b[0;34m\u001b[0m\u001b[0m\n\u001b[1;32m      4\u001b[0m \u001b[0mdf\u001b[0m\u001b[0;34m.\u001b[0m\u001b[0mhead\u001b[0m\u001b[0;34m(\u001b[0m\u001b[0;34m)\u001b[0m\u001b[0;34m\u001b[0m\u001b[0;34m\u001b[0m\u001b[0m\n",
      "\u001b[0;32m~/.local/lib/python3.6/site-packages/pandas/core/frame.py\u001b[0m in \u001b[0;36mdrop\u001b[0;34m(self, labels, axis, index, columns, level, inplace, errors)\u001b[0m\n\u001b[1;32m   3695\u001b[0m                                            \u001b[0mindex\u001b[0m\u001b[0;34m=\u001b[0m\u001b[0mindex\u001b[0m\u001b[0;34m,\u001b[0m \u001b[0mcolumns\u001b[0m\u001b[0;34m=\u001b[0m\u001b[0mcolumns\u001b[0m\u001b[0;34m,\u001b[0m\u001b[0;34m\u001b[0m\u001b[0;34m\u001b[0m\u001b[0m\n\u001b[1;32m   3696\u001b[0m                                            \u001b[0mlevel\u001b[0m\u001b[0;34m=\u001b[0m\u001b[0mlevel\u001b[0m\u001b[0;34m,\u001b[0m \u001b[0minplace\u001b[0m\u001b[0;34m=\u001b[0m\u001b[0minplace\u001b[0m\u001b[0;34m,\u001b[0m\u001b[0;34m\u001b[0m\u001b[0;34m\u001b[0m\u001b[0m\n\u001b[0;32m-> 3697\u001b[0;31m                                            errors=errors)\n\u001b[0m\u001b[1;32m   3698\u001b[0m \u001b[0;34m\u001b[0m\u001b[0m\n\u001b[1;32m   3699\u001b[0m     @rewrite_axis_style_signature('mapper', [('copy', True),\n",
      "\u001b[0;32m~/.local/lib/python3.6/site-packages/pandas/core/generic.py\u001b[0m in \u001b[0;36mdrop\u001b[0;34m(self, labels, axis, index, columns, level, inplace, errors)\u001b[0m\n\u001b[1;32m   3109\u001b[0m         \u001b[0;32mfor\u001b[0m \u001b[0maxis\u001b[0m\u001b[0;34m,\u001b[0m \u001b[0mlabels\u001b[0m \u001b[0;32min\u001b[0m \u001b[0maxes\u001b[0m\u001b[0;34m.\u001b[0m\u001b[0mitems\u001b[0m\u001b[0;34m(\u001b[0m\u001b[0;34m)\u001b[0m\u001b[0;34m:\u001b[0m\u001b[0;34m\u001b[0m\u001b[0;34m\u001b[0m\u001b[0m\n\u001b[1;32m   3110\u001b[0m             \u001b[0;32mif\u001b[0m \u001b[0mlabels\u001b[0m \u001b[0;32mis\u001b[0m \u001b[0;32mnot\u001b[0m \u001b[0;32mNone\u001b[0m\u001b[0;34m:\u001b[0m\u001b[0;34m\u001b[0m\u001b[0;34m\u001b[0m\u001b[0m\n\u001b[0;32m-> 3111\u001b[0;31m                 \u001b[0mobj\u001b[0m \u001b[0;34m=\u001b[0m \u001b[0mobj\u001b[0m\u001b[0;34m.\u001b[0m\u001b[0m_drop_axis\u001b[0m\u001b[0;34m(\u001b[0m\u001b[0mlabels\u001b[0m\u001b[0;34m,\u001b[0m \u001b[0maxis\u001b[0m\u001b[0;34m,\u001b[0m \u001b[0mlevel\u001b[0m\u001b[0;34m=\u001b[0m\u001b[0mlevel\u001b[0m\u001b[0;34m,\u001b[0m \u001b[0merrors\u001b[0m\u001b[0;34m=\u001b[0m\u001b[0merrors\u001b[0m\u001b[0;34m)\u001b[0m\u001b[0;34m\u001b[0m\u001b[0;34m\u001b[0m\u001b[0m\n\u001b[0m\u001b[1;32m   3112\u001b[0m \u001b[0;34m\u001b[0m\u001b[0m\n\u001b[1;32m   3113\u001b[0m         \u001b[0;32mif\u001b[0m \u001b[0minplace\u001b[0m\u001b[0;34m:\u001b[0m\u001b[0;34m\u001b[0m\u001b[0;34m\u001b[0m\u001b[0m\n",
      "\u001b[0;32m~/.local/lib/python3.6/site-packages/pandas/core/generic.py\u001b[0m in \u001b[0;36m_drop_axis\u001b[0;34m(self, labels, axis, level, errors)\u001b[0m\n\u001b[1;32m   3141\u001b[0m                 \u001b[0mnew_axis\u001b[0m \u001b[0;34m=\u001b[0m \u001b[0maxis\u001b[0m\u001b[0;34m.\u001b[0m\u001b[0mdrop\u001b[0m\u001b[0;34m(\u001b[0m\u001b[0mlabels\u001b[0m\u001b[0;34m,\u001b[0m \u001b[0mlevel\u001b[0m\u001b[0;34m=\u001b[0m\u001b[0mlevel\u001b[0m\u001b[0;34m,\u001b[0m \u001b[0merrors\u001b[0m\u001b[0;34m=\u001b[0m\u001b[0merrors\u001b[0m\u001b[0;34m)\u001b[0m\u001b[0;34m\u001b[0m\u001b[0;34m\u001b[0m\u001b[0m\n\u001b[1;32m   3142\u001b[0m             \u001b[0;32melse\u001b[0m\u001b[0;34m:\u001b[0m\u001b[0;34m\u001b[0m\u001b[0;34m\u001b[0m\u001b[0m\n\u001b[0;32m-> 3143\u001b[0;31m                 \u001b[0mnew_axis\u001b[0m \u001b[0;34m=\u001b[0m \u001b[0maxis\u001b[0m\u001b[0;34m.\u001b[0m\u001b[0mdrop\u001b[0m\u001b[0;34m(\u001b[0m\u001b[0mlabels\u001b[0m\u001b[0;34m,\u001b[0m \u001b[0merrors\u001b[0m\u001b[0;34m=\u001b[0m\u001b[0merrors\u001b[0m\u001b[0;34m)\u001b[0m\u001b[0;34m\u001b[0m\u001b[0;34m\u001b[0m\u001b[0m\n\u001b[0m\u001b[1;32m   3144\u001b[0m             \u001b[0mresult\u001b[0m \u001b[0;34m=\u001b[0m \u001b[0mself\u001b[0m\u001b[0;34m.\u001b[0m\u001b[0mreindex\u001b[0m\u001b[0;34m(\u001b[0m\u001b[0;34m**\u001b[0m\u001b[0;34m{\u001b[0m\u001b[0maxis_name\u001b[0m\u001b[0;34m:\u001b[0m \u001b[0mnew_axis\u001b[0m\u001b[0;34m}\u001b[0m\u001b[0;34m)\u001b[0m\u001b[0;34m\u001b[0m\u001b[0;34m\u001b[0m\u001b[0m\n\u001b[1;32m   3145\u001b[0m \u001b[0;34m\u001b[0m\u001b[0m\n",
      "\u001b[0;32m~/.local/lib/python3.6/site-packages/pandas/core/indexes/base.py\u001b[0m in \u001b[0;36mdrop\u001b[0;34m(self, labels, errors)\u001b[0m\n\u001b[1;32m   4402\u001b[0m             \u001b[0;32mif\u001b[0m \u001b[0merrors\u001b[0m \u001b[0;34m!=\u001b[0m \u001b[0;34m'ignore'\u001b[0m\u001b[0;34m:\u001b[0m\u001b[0;34m\u001b[0m\u001b[0;34m\u001b[0m\u001b[0m\n\u001b[1;32m   4403\u001b[0m                 raise KeyError(\n\u001b[0;32m-> 4404\u001b[0;31m                     '{} not found in axis'.format(labels[mask]))\n\u001b[0m\u001b[1;32m   4405\u001b[0m             \u001b[0mindexer\u001b[0m \u001b[0;34m=\u001b[0m \u001b[0mindexer\u001b[0m\u001b[0;34m[\u001b[0m\u001b[0;34m~\u001b[0m\u001b[0mmask\u001b[0m\u001b[0;34m]\u001b[0m\u001b[0;34m\u001b[0m\u001b[0;34m\u001b[0m\u001b[0m\n\u001b[1;32m   4406\u001b[0m         \u001b[0;32mreturn\u001b[0m \u001b[0mself\u001b[0m\u001b[0;34m.\u001b[0m\u001b[0mdelete\u001b[0m\u001b[0;34m(\u001b[0m\u001b[0mindexer\u001b[0m\u001b[0;34m)\u001b[0m\u001b[0;34m\u001b[0m\u001b[0;34m\u001b[0m\u001b[0m\n",
      "\u001b[0;31mKeyError\u001b[0m: \"['DATE'] not found in axis\""
     ]
    }
   ],
   "source": [
    "df.drop(['DATE'], axis=1,inplace=True)\n",
    "train_data = df.sample(frac=0.8,random_state=0)\n",
    "test_data = df.drop(train_data.index)"
   ]
  },
  {
   "cell_type": "code",
   "execution_count": 29,
   "metadata": {},
   "outputs": [],
   "source": [
    "df.drop('WEIGHT, KG PER BAG',axis=1,inplace=True)"
   ]
  },
  {
   "cell_type": "code",
   "execution_count": 31,
   "metadata": {},
   "outputs": [
    {
     "data": {
      "text/html": [
       "<div>\n",
       "<style scoped>\n",
       "    .dataframe tbody tr th:only-of-type {\n",
       "        vertical-align: middle;\n",
       "    }\n",
       "\n",
       "    .dataframe tbody tr th {\n",
       "        vertical-align: top;\n",
       "    }\n",
       "\n",
       "    .dataframe thead th {\n",
       "        text-align: right;\n",
       "    }\n",
       "</style>\n",
       "<table border=\"1\" class=\"dataframe\">\n",
       "  <thead>\n",
       "    <tr style=\"text-align: right;\">\n",
       "      <th></th>\n",
       "      <th>YEAR</th>\n",
       "      <th>MONTH</th>\n",
       "      <th>COMMODITY</th>\n",
       "      <th>Price</th>\n",
       "      <th>Temperature (C)</th>\n",
       "      <th>Rainfall - (MM)</th>\n",
       "    </tr>\n",
       "  </thead>\n",
       "  <tbody>\n",
       "    <tr>\n",
       "      <th>0</th>\n",
       "      <td>1991</td>\n",
       "      <td>1</td>\n",
       "      <td>1</td>\n",
       "      <td>1.080</td>\n",
       "      <td>27.671963</td>\n",
       "      <td>9.81577</td>\n",
       "    </tr>\n",
       "    <tr>\n",
       "      <th>1</th>\n",
       "      <td>1991</td>\n",
       "      <td>1</td>\n",
       "      <td>2</td>\n",
       "      <td>187.100</td>\n",
       "      <td>27.671963</td>\n",
       "      <td>9.81577</td>\n",
       "    </tr>\n",
       "    <tr>\n",
       "      <th>2</th>\n",
       "      <td>1991</td>\n",
       "      <td>1</td>\n",
       "      <td>3</td>\n",
       "      <td>0.050</td>\n",
       "      <td>27.671963</td>\n",
       "      <td>9.81577</td>\n",
       "    </tr>\n",
       "    <tr>\n",
       "      <th>3</th>\n",
       "      <td>1991</td>\n",
       "      <td>1</td>\n",
       "      <td>4</td>\n",
       "      <td>6.917</td>\n",
       "      <td>27.671963</td>\n",
       "      <td>9.81577</td>\n",
       "    </tr>\n",
       "    <tr>\n",
       "      <th>4</th>\n",
       "      <td>1991</td>\n",
       "      <td>1</td>\n",
       "      <td>5</td>\n",
       "      <td>57.261</td>\n",
       "      <td>27.671963</td>\n",
       "      <td>9.81577</td>\n",
       "    </tr>\n",
       "  </tbody>\n",
       "</table>\n",
       "</div>"
      ],
      "text/plain": [
       "   YEAR  MONTH  COMMODITY    Price  Temperature (C)  Rainfall - (MM)\n",
       "0  1991      1          1    1.080        27.671963          9.81577\n",
       "1  1991      1          2  187.100        27.671963          9.81577\n",
       "2  1991      1          3    0.050        27.671963          9.81577\n",
       "3  1991      1          4    6.917        27.671963          9.81577\n",
       "4  1991      1          5   57.261        27.671963          9.81577"
      ]
     },
     "execution_count": 31,
     "metadata": {},
     "output_type": "execute_result"
    }
   ],
   "source": [
    "df.head()"
   ]
  },
  {
   "cell_type": "code",
   "execution_count": 32,
   "metadata": {},
   "outputs": [],
   "source": [
    "df.to_csv('./cleaned/super_dataframe.csv')"
   ]
  },
  {
   "cell_type": "code",
   "execution_count": 16,
   "metadata": {},
   "outputs": [],
   "source": [
    "train_labels = train_data.pop('Price')\n",
    "test_labels = test_data.pop('Price')"
   ]
  },
  {
   "cell_type": "markdown",
   "metadata": {},
   "source": [
    "### Model stuff"
   ]
  },
  {
   "cell_type": "code",
   "execution_count": 26,
   "metadata": {},
   "outputs": [
    {
     "data": {
      "text/plain": [
       "[6]"
      ]
     },
     "execution_count": 26,
     "metadata": {},
     "output_type": "execute_result"
    }
   ],
   "source": [
    "[len(train_data.keys())]"
   ]
  },
  {
   "cell_type": "code",
   "execution_count": 18,
   "metadata": {},
   "outputs": [],
   "source": [
    "model = tf.keras.Sequential([\n",
    "    tf.keras.layers.Dense(64, activation=tf.nn.relu, input_shape=[len(train_data.keys())]),\n",
    "    tf.keras.layers.Dense(64, activation=tf.nn.relu),\n",
    "    tf.keras.layers.Dense(1)\n",
    "  ])\n",
    "\n",
    "optimizer = tf.keras.optimizers.RMSprop(0.001)\n",
    "\n",
    "model.compile(loss='mean_squared_error',\n",
    "            optimizer=optimizer,\n",
    "            metrics=['accuracy'])\n"
   ]
  },
  {
   "cell_type": "code",
   "execution_count": 19,
   "metadata": {},
   "outputs": [
    {
     "name": "stdout",
     "output_type": "stream",
     "text": [
      "_________________________________________________________________\n",
      "Layer (type)                 Output Shape              Param #   \n",
      "=================================================================\n",
      "dense (Dense)                (None, 64)                448       \n",
      "_________________________________________________________________\n",
      "dense_1 (Dense)              (None, 64)                4160      \n",
      "_________________________________________________________________\n",
      "dense_2 (Dense)              (None, 1)                 65        \n",
      "=================================================================\n",
      "Total params: 4,673\n",
      "Trainable params: 4,673\n",
      "Non-trainable params: 0\n",
      "_________________________________________________________________\n"
     ]
    }
   ],
   "source": [
    "model.summary()"
   ]
  },
  {
   "cell_type": "code",
   "execution_count": 20,
   "metadata": {},
   "outputs": [
    {
     "data": {
      "text/plain": [
       "array([[238.68004],\n",
       "       [239.38705],\n",
       "       [234.49164],\n",
       "       [234.3538 ],\n",
       "       [236.65245],\n",
       "       [235.28458],\n",
       "       [245.92873],\n",
       "       [240.24408],\n",
       "       [234.9868 ],\n",
       "       [241.14554]], dtype=float32)"
      ]
     },
     "execution_count": 20,
     "metadata": {},
     "output_type": "execute_result"
    }
   ],
   "source": [
    "example_batch = train_data[:10]\n",
    "example_result = model.predict(example_batch)\n",
    "example_result"
   ]
  },
  {
   "cell_type": "code",
   "execution_count": 23,
   "metadata": {},
   "outputs": [
    {
     "name": "stdout",
     "output_type": "stream",
     "text": [
      "Epoch 1/100\n",
      "1498/1498 [==============================] - 0s 31us/step - loss: 10845124580.6569 - acc: 6.6756e-04\n",
      "Epoch 2/100\n",
      "1498/1498 [==============================] - 0s 31us/step - loss: 10826695956.8491 - acc: 6.6756e-04\n",
      "Epoch 3/100\n",
      "1498/1498 [==============================] - 0s 26us/step - loss: 10812253018.5741 - acc: 6.6756e-04\n",
      "Epoch 4/100\n",
      "1498/1498 [==============================] - 0s 23us/step - loss: 10796726449.7303 - acc: 6.6756e-04\n",
      "Epoch 5/100\n",
      "1498/1498 [==============================] - 0s 23us/step - loss: 10788357260.8171 - acc: 6.6756e-04\n",
      "Epoch 6/100\n",
      "1498/1498 [==============================] - 0s 23us/step - loss: 10764268708.0587 - acc: 6.6756e-04\n",
      "Epoch 7/100\n",
      "1498/1498 [==============================] - 0s 23us/step - loss: 10777760512.3418 - acc: 6.6756e-04\n",
      "Epoch 8/100\n",
      "1498/1498 [==============================] - 0s 26us/step - loss: 10753042399.8718 - acc: 6.6756e-04\n",
      "Epoch 9/100\n",
      "1498/1498 [==============================] - 0s 24us/step - loss: 10749443744.6409 - acc: 6.6756e-04\n",
      "Epoch 10/100\n",
      "1498/1498 [==============================] - 0s 23us/step - loss: 10725193968.6195 - acc: 6.6756e-04\n",
      "Epoch 11/100\n",
      "1498/1498 [==============================] - 0s 24us/step - loss: 10744912179.6101 - acc: 6.6756e-04\n",
      "Epoch 12/100\n",
      "1498/1498 [==============================] - 0s 24us/step - loss: 10718161522.1575 - acc: 6.6756e-04\n",
      "Epoch 13/100\n",
      "1498/1498 [==============================] - 0s 26us/step - loss: 10726012607.0601 - acc: 6.6756e-04\n",
      "Epoch 14/100\n",
      "1498/1498 [==============================] - 0s 26us/step - loss: 10719010340.2296 - acc: 6.6756e-04\n",
      "Epoch 15/100\n",
      "1498/1498 [==============================] - 0s 26us/step - loss: 10725035445.4900 - acc: 6.6756e-04\n",
      "Epoch 16/100\n",
      "1498/1498 [==============================] - 0s 28us/step - loss: 10716555575.3698 - acc: 6.6756e-04\n",
      "Epoch 17/100\n",
      "1498/1498 [==============================] - 0s 27us/step - loss: 10719864434.8411 - acc: 6.6756e-04\n",
      "Epoch 18/100\n",
      "1498/1498 [==============================] - 0s 27us/step - loss: 10720221952.3418 - acc: 6.6756e-04\n",
      "Epoch 19/100\n",
      "1498/1498 [==============================] - 0s 26us/step - loss: 10702778632.5447 - acc: 6.6756e-04\n",
      "Epoch 20/100\n",
      "1498/1498 [==============================] - 0s 27us/step - loss: 10719604901.4259 - acc: 6.6756e-04\n",
      "Epoch 21/100\n",
      "1498/1498 [==============================] - 0s 25us/step - loss: 10724516944.6622 - acc: 6.6756e-04\n",
      "Epoch 22/100\n",
      "1498/1498 [==============================] - 0s 26us/step - loss: 10703445451.7063 - acc: 6.6756e-04\n",
      "Epoch 23/100\n",
      "1498/1498 [==============================] - 0s 26us/step - loss: 10714517486.2270 - acc: 6.6756e-04\n",
      "Epoch 24/100\n",
      "1498/1498 [==============================] - 0s 25us/step - loss: 10711351889.3458 - acc: 6.6756e-04\n",
      "Epoch 25/100\n",
      "1498/1498 [==============================] - 0s 28us/step - loss: 10714791750.0668 - acc: 6.6756e-04\n",
      "Epoch 26/100\n",
      "1498/1498 [==============================] - 0s 24us/step - loss: 10711215899.6849 - acc: 6.6756e-04\n",
      "Epoch 27/100\n",
      "1498/1498 [==============================] - 0s 26us/step - loss: 10703160380.1549 - acc: 6.6756e-04\n",
      "Epoch 28/100\n",
      "1498/1498 [==============================] - 0s 27us/step - loss: 10702185537.6235 - acc: 6.6756e-04\n",
      "Epoch 29/100\n",
      "1498/1498 [==============================] - 0s 26us/step - loss: 10692010729.1001 - acc: 6.6756e-04\n",
      "Epoch 30/100\n",
      "1498/1498 [==============================] - 0s 28us/step - loss: 10712534974.0347 - acc: 6.6756e-04\n",
      "Epoch 31/100\n",
      "1498/1498 [==============================] - 0s 26us/step - loss: 10705452481.7944 - acc: 6.6756e-04\n",
      "Epoch 32/100\n",
      "1498/1498 [==============================] - 0s 25us/step - loss: 10697967039.0601 - acc: 6.6756e-04\n",
      "Epoch 33/100\n",
      "1498/1498 [==============================] - 0s 27us/step - loss: 10698345607.3485 - acc: 6.6756e-04\n",
      "Epoch 34/100\n",
      "1498/1498 [==============================] - 0s 26us/step - loss: 10699517421.5434 - acc: 6.6756e-04\n",
      "Epoch 35/100\n",
      "1498/1498 [==============================] - 0s 27us/step - loss: 10696263272.5875 - acc: 6.6756e-04\n",
      "Epoch 36/100\n",
      "1498/1498 [==============================] - 0s 26us/step - loss: 10698086990.6115 - acc: 6.6756e-04\n",
      "Epoch 37/100\n",
      "1498/1498 [==============================] - 0s 27us/step - loss: 10709212550.6649 - acc: 6.6756e-04\n",
      "Epoch 38/100\n",
      "1498/1498 [==============================] - 0s 25us/step - loss: 10690629325.7570 - acc: 6.6756e-04\n",
      "Epoch 39/100\n",
      "1498/1498 [==============================] - 0s 27us/step - loss: 10699740249.8905 - acc: 6.6756e-04\n",
      "Epoch 40/100\n",
      "1498/1498 [==============================] - 0s 26us/step - loss: 10699042921.2710 - acc: 6.6756e-04\n",
      "Epoch 41/100\n",
      "1498/1498 [==============================] - 0s 26us/step - loss: 10718119711.1028 - acc: 6.6756e-04\n",
      "Epoch 42/100\n",
      "1498/1498 [==============================] - 0s 26us/step - loss: 10702569346.5634 - acc: 6.6756e-04\n",
      "Epoch 43/100\n",
      "1498/1498 [==============================] - 0s 27us/step - loss: 10700037340.1122 - acc: 6.6756e-04\n",
      "Epoch 44/100\n",
      "1498/1498 [==============================] - 0s 27us/step - loss: 10714456372.9773 - acc: 6.6756e-04\n",
      "Epoch 45/100\n",
      "1498/1498 [==============================] - 0s 27us/step - loss: 10688982397.4366 - acc: 6.6756e-04\n",
      "Epoch 46/100\n",
      "1498/1498 [==============================] - 0s 26us/step - loss: 10694330827.0227 - acc: 6.6756e-04\n",
      "Epoch 47/100\n",
      "1498/1498 [==============================] - 0s 26us/step - loss: 10708071135.5300 - acc: 6.6756e-04\n",
      "Epoch 48/100\n",
      "1498/1498 [==============================] - 0s 25us/step - loss: 10700025083.2150 - acc: 6.6756e-04\n",
      "Epoch 49/100\n",
      "1498/1498 [==============================] - 0s 25us/step - loss: 10685506799.2523 - acc: 6.6756e-04\n",
      "Epoch 50/100\n",
      "1498/1498 [==============================] - 0s 26us/step - loss: 10696766941.1375 - acc: 6.6756e-04\n",
      "Epoch 51/100\n",
      "1498/1498 [==============================] - 0s 27us/step - loss: 10693405441.7089 - acc: 6.6756e-04\n",
      "Epoch 52/100\n",
      "1498/1498 [==============================] - 0s 26us/step - loss: 10692858452.0801 - acc: 6.6756e-04\n",
      "Epoch 53/100\n",
      "1498/1498 [==============================] - 0s 27us/step - loss: 10679438148.3578 - acc: 6.6756e-04\n",
      "Epoch 54/100\n",
      "1498/1498 [==============================] - 0s 28us/step - loss: 10696636975.1669 - acc: 6.6756e-04\n",
      "Epoch 55/100\n",
      "1498/1498 [==============================] - 0s 26us/step - loss: 10683241914.2750 - acc: 6.6756e-04\n",
      "Epoch 56/100\n",
      "1498/1498 [==============================] - 0s 25us/step - loss: 10710194487.7116 - acc: 6.6756e-04\n",
      "Epoch 57/100\n",
      "1498/1498 [==============================] - 0s 26us/step - loss: 10694260161.7944 - acc: 6.6756e-04\n",
      "Epoch 58/100\n",
      "1498/1498 [==============================] - 0s 28us/step - loss: 10700832923.8558 - acc: 6.6756e-04\n",
      "Epoch 59/100\n",
      "1498/1498 [==============================] - 0s 25us/step - loss: 10699478725.5541 - acc: 6.6756e-04\n",
      "Epoch 60/100\n",
      "1498/1498 [==============================] - 0s 25us/step - loss: 10694918261.5754 - acc: 6.6756e-04\n",
      "Epoch 61/100\n",
      "1498/1498 [==============================] - 0s 24us/step - loss: 10700302139.3004 - acc: 6.6756e-04\n",
      "Epoch 62/100\n",
      "1498/1498 [==============================] - 0s 26us/step - loss: 10697643776.0000 - acc: 6.6756e-04\n",
      "Epoch 63/100\n",
      "1498/1498 [==============================] - 0s 29us/step - loss: 10709985841.5594 - acc: 6.6756e-04\n",
      "Epoch 64/100\n",
      "1498/1498 [==============================] - 0s 28us/step - loss: 10695074214.4513 - acc: 6.6756e-04\n",
      "Epoch 65/100\n",
      "1498/1498 [==============================] - 0s 27us/step - loss: 10695408881.3031 - acc: 6.6756e-04\n",
      "Epoch 66/100\n",
      "1498/1498 [==============================] - 0s 26us/step - loss: 10694011162.7450 - acc: 6.6756e-04\n",
      "Epoch 67/100\n",
      "1498/1498 [==============================] - 0s 25us/step - loss: 10692901415.9893 - acc: 6.6756e-04\n",
      "Epoch 68/100\n",
      "1498/1498 [==============================] - 0s 26us/step - loss: 10699047281.1322 - acc: 6.6756e-04\n",
      "Epoch 69/100\n",
      "1498/1498 [==============================] - 0s 25us/step - loss: 10695018724.3151 - acc: 6.6756e-04\n",
      "Epoch 70/100\n",
      "1498/1498 [==============================] - 0s 26us/step - loss: 10689909042.2430 - acc: 6.6756e-04\n",
      "Epoch 71/100\n",
      "1498/1498 [==============================] - 0s 26us/step - loss: 10689490289.9866 - acc: 6.6756e-04\n",
      "Epoch 72/100\n",
      "1498/1498 [==============================] - 0s 26us/step - loss: 10691336429.2016 - acc: 6.6756e-04\n"
     ]
    },
    {
     "name": "stdout",
     "output_type": "stream",
     "text": [
      "Epoch 73/100\n",
      "1498/1498 [==============================] - 0s 24us/step - loss: 10696464848.8331 - acc: 6.6756e-04\n",
      "Epoch 74/100\n",
      "1498/1498 [==============================] - 0s 25us/step - loss: 10686658094.4833 - acc: 6.6756e-04\n",
      "Epoch 75/100\n",
      "1498/1498 [==============================] - 0s 25us/step - loss: 10694931101.9065 - acc: 6.6756e-04\n",
      "Epoch 76/100\n",
      "1498/1498 [==============================] - 0s 26us/step - loss: 10698247359.4019 - acc: 6.6756e-04\n",
      "Epoch 77/100\n",
      "1498/1498 [==============================] - 0s 26us/step - loss: 10689477178.7877 - acc: 6.6756e-04\n",
      "Epoch 78/100\n",
      "1498/1498 [==============================] - 0s 24us/step - loss: 10706114037.0627 - acc: 6.6756e-04\n",
      "Epoch 79/100\n",
      "1498/1498 [==============================] - 0s 26us/step - loss: 10688238323.3538 - acc: 6.6756e-04\n",
      "Epoch 80/100\n",
      "1498/1498 [==============================] - 0s 25us/step - loss: 10694596767.6155 - acc: 6.6756e-04\n",
      "Epoch 81/100\n",
      "1498/1498 [==============================] - 0s 24us/step - loss: 10694032297.1856 - acc: 6.6756e-04\n",
      "Epoch 82/100\n",
      "1498/1498 [==============================] - 0s 26us/step - loss: 10687539939.5461 - acc: 6.6756e-04\n",
      "Epoch 83/100\n",
      "1498/1498 [==============================] - 0s 25us/step - loss: 10692802022.7076 - acc: 6.6756e-04\n",
      "Epoch 84/100\n",
      "1498/1498 [==============================] - 0s 24us/step - loss: 10703756652.6889 - acc: 6.6756e-04\n",
      "Epoch 85/100\n",
      "1498/1498 [==============================] - 0s 21us/step - loss: 10688860617.9973 - acc: 6.6756e-04\n",
      "Epoch 86/100\n",
      "1498/1498 [==============================] - 0s 22us/step - loss: 10707682700.4753 - acc: 6.6756e-04\n",
      "Epoch 87/100\n",
      "1498/1498 [==============================] - 0s 21us/step - loss: 10685003963.3004 - acc: 6.6756e-04\n",
      "Epoch 88/100\n",
      "1498/1498 [==============================] - 0s 23us/step - loss: 10693796345.8478 - acc: 6.6756e-04\n",
      "Epoch 89/100\n",
      "1498/1498 [==============================] - 0s 23us/step - loss: 10685149311.4873 - acc: 6.6756e-04\n",
      "Epoch 90/100\n",
      "1498/1498 [==============================] - 0s 24us/step - loss: 10692031071.0174 - acc: 6.6756e-04\n",
      "Epoch 91/100\n",
      "1498/1498 [==============================] - 0s 29us/step - loss: 10688219598.7824 - acc: 6.6756e-04\n",
      "Epoch 92/100\n",
      "1498/1498 [==============================] - 0s 31us/step - loss: 10686261273.2924 - acc: 6.6756e-04\n",
      "Epoch 93/100\n",
      "1498/1498 [==============================] - 0s 31us/step - loss: 10684605908.2510 - acc: 6.6756e-04\n",
      "Epoch 94/100\n",
      "1498/1498 [==============================] - 0s 32us/step - loss: 10635075809.5808 - acc: 6.6756e-04\n",
      "Epoch 95/100\n",
      "1498/1498 [==============================] - 0s 30us/step - loss: 10710909388.7316 - acc: 6.6756e-04\n",
      "Epoch 96/100\n",
      "1498/1498 [==============================] - 0s 32us/step - loss: 10688755973.1268 - acc: 6.6756e-04\n",
      "Epoch 97/100\n",
      "1498/1498 [==============================] - 0s 29us/step - loss: 10691272876.2617 - acc: 6.6756e-04\n",
      "Epoch 98/100\n",
      "1498/1498 [==============================] - 0s 31us/step - loss: 10697325031.0494 - acc: 6.6756e-04\n",
      "Epoch 99/100\n",
      "1498/1498 [==============================] - 0s 29us/step - loss: 10659108422.4085 - acc: 6.6756e-04\n",
      "Epoch 100/100\n",
      "1498/1498 [==============================] - 0s 27us/step - loss: 10706906290.4139 - acc: 6.6756e-04\n"
     ]
    }
   ],
   "source": [
    "history = model.fit(\n",
    "  train_data, train_labels,\n",
    "  epochs=100)"
   ]
  },
  {
   "cell_type": "code",
   "execution_count": 24,
   "metadata": {},
   "outputs": [
    {
     "name": "stdout",
     "output_type": "stream",
     "text": [
      "374/374 [==============================] - 0s 42us/step\n"
     ]
    },
    {
     "data": {
      "text/plain": [
       "[8052527406.545455, 0.0]"
      ]
     },
     "execution_count": 24,
     "metadata": {},
     "output_type": "execute_result"
    }
   ],
   "source": [
    "model.evaluate(test_data,test_labels)"
   ]
  },
  {
   "cell_type": "code",
   "execution_count": null,
   "metadata": {},
   "outputs": [],
   "source": []
  }
 ],
 "metadata": {
  "kernelspec": {
   "display_name": "Python 3",
   "language": "python",
   "name": "python3"
  },
  "language_info": {
   "codemirror_mode": {
    "name": "ipython",
    "version": 3
   },
   "file_extension": ".py",
   "mimetype": "text/x-python",
   "name": "python",
   "nbconvert_exporter": "python",
   "pygments_lexer": "ipython3",
   "version": "3.7.1"
  }
 },
 "nbformat": 4,
 "nbformat_minor": 2
}
